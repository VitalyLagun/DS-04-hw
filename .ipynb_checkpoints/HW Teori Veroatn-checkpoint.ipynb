{
 "cells": [
  {
   "cell_type": "code",
   "execution_count": 1,
   "id": "7883f7e4",
   "metadata": {},
   "outputs": [],
   "source": [
    "import math as mt"
   ]
  },
  {
   "cell_type": "code",
   "execution_count": 2,
   "id": "2d90a378",
   "metadata": {},
   "outputs": [
    {
     "data": {
      "text/plain": [
       "1012.0"
      ]
     },
     "execution_count": 2,
     "metadata": {},
     "output_type": "execute_result"
    }
   ],
   "source": [
    "#В студенческой группе 23 человека. Сколькими способами можно выбрать старосту и его заместителя?\n",
    "\n",
    "\n",
    "mt.factorial(23)/mt.factorial(23-2)*mt.factorial(2)"
   ]
  },
  {
   "cell_type": "code",
   "execution_count": 3,
   "id": "a2ebb3a9",
   "metadata": {},
   "outputs": [
    {
     "data": {
      "text/plain": [
       "180.0"
      ]
     },
     "execution_count": 3,
     "metadata": {},
     "output_type": "execute_result"
    }
   ],
   "source": [
    "#Студенческая группа состоит из 23 человек, среди которых 10 юношей и 13 девушек. Сколькими способами можно выбрать двух человек одного пола?\n",
    "\n",
    "mt.factorial(10)/mt.factorial(10-2) * mt.factorial(2)"
   ]
  },
  {
   "cell_type": "code",
   "execution_count": 18,
   "id": "09c22f4e",
   "metadata": {},
   "outputs": [
    {
     "data": {
      "text/plain": [
       "312.0"
      ]
     },
     "execution_count": 18,
     "metadata": {},
     "output_type": "execute_result"
    }
   ],
   "source": [
    "mt.factorial(13)/mt.factorial(10-2) * mt.factorial(2)"
   ]
  },
  {
   "cell_type": "code",
   "execution_count": 20,
   "id": "b275375d",
   "metadata": {},
   "outputs": [
    {
     "data": {
      "text/plain": [
       "1104.0"
      ]
     },
     "execution_count": 20,
     "metadata": {},
     "output_type": "execute_result"
    }
   ],
   "source": [
    "#Рассмотрим ту же студенческую группу, которая пошла на танцы. Сколькими способами можно составить пару из юноши и девушки?\n",
    "\n",
    "mt.factorial(23+2-1)/mt.factorial(23-1)*mt.factorial(2) "
   ]
  },
  {
   "cell_type": "code",
   "execution_count": 22,
   "id": "34cafef2",
   "metadata": {},
   "outputs": [
    {
     "data": {
      "text/plain": [
       "246.0"
      ]
     },
     "execution_count": 22,
     "metadata": {},
     "output_type": "execute_result"
    }
   ],
   "source": [
    "#Сколькими способами можно выбрать двух юношей и двух девушек для участия в сценке КВН?\n",
    "\n",
    "mt.factorial(10)/mt.factorial(10-2)+ mt.factorial(13)/mt.factorial(13-2)"
   ]
  },
  {
   "cell_type": "code",
   "execution_count": null,
   "id": "dffd5b0f",
   "metadata": {},
   "outputs": [],
   "source": [
    "#У Васи дома живут 4 кота.\n",
    "\n",
    "#а) сколькими способами можно рассадить котов по углам комнаты?\n",
    "#б) сколькими способами можно отпустить гулять котов?\n",
    "#в) сколькими способами Вася может взять на руки двух котов (одного на левую, другого – на правую)?\n"
   ]
  },
  {
   "cell_type": "code",
   "execution_count": 23,
   "id": "ad653f9a",
   "metadata": {},
   "outputs": [
    {
     "data": {
      "text/plain": [
       "24"
      ]
     },
     "execution_count": 23,
     "metadata": {},
     "output_type": "execute_result"
    }
   ],
   "source": [
    "#a\n",
    "mt.factorial(4)"
   ]
  },
  {
   "cell_type": "code",
   "execution_count": 10,
   "id": "45bfcfab",
   "metadata": {},
   "outputs": [
    {
     "data": {
      "text/plain": [
       "576.0"
      ]
     },
     "execution_count": 10,
     "metadata": {},
     "output_type": "execute_result"
    }
   ],
   "source": [
    "#b\n",
    "mt.factorial(4)/ mt.factorial(4-4)* mt.factorial(4)"
   ]
  },
  {
   "cell_type": "code",
   "execution_count": 8,
   "id": "a452844e",
   "metadata": {},
   "outputs": [
    {
     "data": {
      "text/plain": [
       "12.0"
      ]
     },
     "execution_count": 8,
     "metadata": {},
     "output_type": "execute_result"
    }
   ],
   "source": [
    "#b\n",
    "mt.factorial(4)/ mt.factorial(4-2)"
   ]
  },
  {
   "cell_type": "code",
   "execution_count": 9,
   "id": "764afa32",
   "metadata": {},
   "outputs": [
    {
     "data": {
      "text/plain": [
       "0.3783119033703487"
      ]
     },
     "execution_count": 9,
     "metadata": {},
     "output_type": "execute_result"
    }
   ],
   "source": [
    "#Студент знает ответы на 25 экзаменационных вопросов из 60. Какова вероятность сдать экзамен, если для этого необходимо ответить не менее чем на 2 из 3 вопросов?\n",
    "\n",
    "#ЗЗН + ЗНЗ + НЗЗ + ЗЗЗ\n",
    "\n",
    "\n",
    "25/60 * 24/59 * 35/58 + 25/60 * 35/59 * 25/58 + 35/60 * 25/59 * 24/58 + 25/60 * 24/59 * 23/58"
   ]
  },
  {
   "cell_type": "code",
   "execution_count": null,
   "id": "d5720419",
   "metadata": {},
   "outputs": [],
   "source": [
    "#Из урны, в которой находится 6 белых и 4 черных шара, извлекаются наудачу один за другим три шара. Найти вероятность того, что:\n",
    "\n",
    "#а) все три шара будут черными;\n",
    "#б) будет не меньше двух шаров черного цвета.\n",
    "\n"
   ]
  },
  {
   "cell_type": "code",
   "execution_count": 13,
   "id": "92e8d456",
   "metadata": {},
   "outputs": [
    {
     "data": {
      "text/plain": [
       "0.03333333333333334"
      ]
     },
     "execution_count": 13,
     "metadata": {},
     "output_type": "execute_result"
    }
   ],
   "source": [
    "#a\n",
    "b3 = 4/10 * 3/9 * 2/8\n",
    "b3"
   ]
  },
  {
   "cell_type": "code",
   "execution_count": 14,
   "id": "c074a1cb",
   "metadata": {},
   "outputs": [
    {
     "data": {
      "text/plain": [
       "0.30000000000000004"
      ]
     },
     "execution_count": 14,
     "metadata": {},
     "output_type": "execute_result"
    }
   ],
   "source": [
    "#b  ЧЧБ + ЧбЧ + БЧЧ\n",
    "b2 = 4/10 * 3/9 * 6/8 + 4/10 * 6/9 * 3/8 + 6/10 * 4/9 * 3/8\n",
    "b2"
   ]
  },
  {
   "cell_type": "code",
   "execution_count": 15,
   "id": "82f94473",
   "metadata": {},
   "outputs": [
    {
     "data": {
      "text/plain": [
       "0.33333333333333337"
      ]
     },
     "execution_count": 15,
     "metadata": {},
     "output_type": "execute_result"
    }
   ],
   "source": [
    "b3 + b2"
   ]
  },
  {
   "cell_type": "code",
   "execution_count": null,
   "id": "4147de97",
   "metadata": {},
   "outputs": [],
   "source": []
  },
  {
   "cell_type": "code",
   "execution_count": null,
   "id": "b45ca5f3",
   "metadata": {},
   "outputs": [],
   "source": []
  },
  {
   "cell_type": "code",
   "execution_count": null,
   "id": "12affd05",
   "metadata": {},
   "outputs": [],
   "source": []
  },
  {
   "cell_type": "code",
   "execution_count": null,
   "id": "4c0a67dd",
   "metadata": {},
   "outputs": [],
   "source": []
  },
  {
   "cell_type": "code",
   "execution_count": null,
   "id": "8cc32af7",
   "metadata": {},
   "outputs": [],
   "source": []
  }
 ],
 "metadata": {
  "kernelspec": {
   "display_name": "Python 3 (ipykernel)",
   "language": "python",
   "name": "python3"
  },
  "language_info": {
   "codemirror_mode": {
    "name": "ipython",
    "version": 3
   },
   "file_extension": ".py",
   "mimetype": "text/x-python",
   "name": "python",
   "nbconvert_exporter": "python",
   "pygments_lexer": "ipython3",
   "version": "3.9.13"
  }
 },
 "nbformat": 4,
 "nbformat_minor": 5
}
