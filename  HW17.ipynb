{
 "cells": [
  {
   "cell_type": "code",
   "execution_count": 117,
   "id": "f87d106b",
   "metadata": {},
   "outputs": [],
   "source": [
    "from sklearn import model_selection\n",
    "from sklearn.linear_model import LinearRegression\n",
    "from sklearn.datasets import fetch_openml\n",
    "from sklearn.compose import ColumnTransformer\n",
    "from sklearn.pipeline import Pipeline\n",
    "from sklearn.impute import SimpleImputer\n",
    "from sklearn.preprocessing import StandardScaler, OneHotEncoder\n",
    "\n",
    "import os\n",
    "import pandas as pd\n",
    "%matplotlib inline\n",
    "import matplotlib.pyplot as plt\n"
   ]
  },
  {
   "cell_type": "code",
   "execution_count": 80,
   "id": "b54c37fe",
   "metadata": {},
   "outputs": [],
   "source": [
    "data = pd.read_csv('data.csv')"
   ]
  },
  {
   "cell_type": "code",
   "execution_count": 81,
   "id": "fb8d3017",
   "metadata": {
    "collapsed": true
   },
   "outputs": [
    {
     "name": "stdout",
     "output_type": "stream",
     "text": [
      "<class 'pandas.core.frame.DataFrame'>\n",
      "RangeIndex: 1000 entries, 0 to 999\n",
      "Data columns (total 11 columns):\n",
      " #   Column                 Non-Null Count  Dtype  \n",
      "---  ------                 --------------  -----  \n",
      " 0   type_school            1000 non-null   object \n",
      " 1   school_accreditation   1000 non-null   object \n",
      " 2   gender                 1000 non-null   object \n",
      " 3   interest               1000 non-null   object \n",
      " 4   residence              1000 non-null   object \n",
      " 5   parent_age             1000 non-null   int64  \n",
      " 6   parent_salary          1000 non-null   int64  \n",
      " 7   house_area             1000 non-null   float64\n",
      " 8   average_grades         1000 non-null   float64\n",
      " 9   parent_was_in_college  1000 non-null   bool   \n",
      " 10  in_college             1000 non-null   bool   \n",
      "dtypes: bool(2), float64(2), int64(2), object(5)\n",
      "memory usage: 72.4+ KB\n"
     ]
    }
   ],
   "source": [
    "data.info()"
   ]
  },
  {
   "cell_type": "code",
   "execution_count": null,
   "id": "d1d45a2f",
   "metadata": {},
   "outputs": [],
   "source": []
  },
  {
   "cell_type": "code",
   "execution_count": 87,
   "id": "396ad1f3",
   "metadata": {},
   "outputs": [],
   "source": [
    "x = data.drop(['in_college'], axis = 1)\n",
    "y = data['in_college']"
   ]
  },
  {
   "cell_type": "code",
   "execution_count": 104,
   "id": "ec36ba76",
   "metadata": {},
   "outputs": [],
   "source": [
    "data = data.drop(['in_college'], axis = 1)"
   ]
  },
  {
   "cell_type": "code",
   "execution_count": 105,
   "id": "dc93153f",
   "metadata": {
    "collapsed": true
   },
   "outputs": [
    {
     "data": {
      "text/html": [
       "<div>\n",
       "<style scoped>\n",
       "    .dataframe tbody tr th:only-of-type {\n",
       "        vertical-align: middle;\n",
       "    }\n",
       "\n",
       "    .dataframe tbody tr th {\n",
       "        vertical-align: top;\n",
       "    }\n",
       "\n",
       "    .dataframe thead th {\n",
       "        text-align: right;\n",
       "    }\n",
       "</style>\n",
       "<table border=\"1\" class=\"dataframe\">\n",
       "  <thead>\n",
       "    <tr style=\"text-align: right;\">\n",
       "      <th></th>\n",
       "      <th>type_school</th>\n",
       "      <th>school_accreditation</th>\n",
       "      <th>gender</th>\n",
       "      <th>interest</th>\n",
       "      <th>residence</th>\n",
       "      <th>parent_age</th>\n",
       "      <th>parent_salary</th>\n",
       "      <th>house_area</th>\n",
       "      <th>average_grades</th>\n",
       "      <th>parent_was_in_college</th>\n",
       "    </tr>\n",
       "  </thead>\n",
       "  <tbody>\n",
       "    <tr>\n",
       "      <th>0</th>\n",
       "      <td>Academic</td>\n",
       "      <td>A</td>\n",
       "      <td>Male</td>\n",
       "      <td>Less Interested</td>\n",
       "      <td>Urban</td>\n",
       "      <td>56</td>\n",
       "      <td>6950000</td>\n",
       "      <td>83.0</td>\n",
       "      <td>84.09</td>\n",
       "      <td>False</td>\n",
       "    </tr>\n",
       "    <tr>\n",
       "      <th>1</th>\n",
       "      <td>Academic</td>\n",
       "      <td>A</td>\n",
       "      <td>Male</td>\n",
       "      <td>Less Interested</td>\n",
       "      <td>Urban</td>\n",
       "      <td>57</td>\n",
       "      <td>4410000</td>\n",
       "      <td>76.8</td>\n",
       "      <td>86.91</td>\n",
       "      <td>False</td>\n",
       "    </tr>\n",
       "    <tr>\n",
       "      <th>2</th>\n",
       "      <td>Academic</td>\n",
       "      <td>B</td>\n",
       "      <td>Female</td>\n",
       "      <td>Very Interested</td>\n",
       "      <td>Urban</td>\n",
       "      <td>50</td>\n",
       "      <td>6500000</td>\n",
       "      <td>80.6</td>\n",
       "      <td>87.43</td>\n",
       "      <td>False</td>\n",
       "    </tr>\n",
       "    <tr>\n",
       "      <th>3</th>\n",
       "      <td>Vocational</td>\n",
       "      <td>B</td>\n",
       "      <td>Male</td>\n",
       "      <td>Very Interested</td>\n",
       "      <td>Rural</td>\n",
       "      <td>49</td>\n",
       "      <td>6600000</td>\n",
       "      <td>78.2</td>\n",
       "      <td>82.12</td>\n",
       "      <td>True</td>\n",
       "    </tr>\n",
       "    <tr>\n",
       "      <th>4</th>\n",
       "      <td>Academic</td>\n",
       "      <td>A</td>\n",
       "      <td>Female</td>\n",
       "      <td>Very Interested</td>\n",
       "      <td>Urban</td>\n",
       "      <td>57</td>\n",
       "      <td>5250000</td>\n",
       "      <td>75.1</td>\n",
       "      <td>86.79</td>\n",
       "      <td>False</td>\n",
       "    </tr>\n",
       "    <tr>\n",
       "      <th>...</th>\n",
       "      <td>...</td>\n",
       "      <td>...</td>\n",
       "      <td>...</td>\n",
       "      <td>...</td>\n",
       "      <td>...</td>\n",
       "      <td>...</td>\n",
       "      <td>...</td>\n",
       "      <td>...</td>\n",
       "      <td>...</td>\n",
       "      <td>...</td>\n",
       "    </tr>\n",
       "    <tr>\n",
       "      <th>995</th>\n",
       "      <td>Vocational</td>\n",
       "      <td>A</td>\n",
       "      <td>Female</td>\n",
       "      <td>Very Interested</td>\n",
       "      <td>Rural</td>\n",
       "      <td>49</td>\n",
       "      <td>7420000</td>\n",
       "      <td>63.6</td>\n",
       "      <td>85.99</td>\n",
       "      <td>True</td>\n",
       "    </tr>\n",
       "    <tr>\n",
       "      <th>996</th>\n",
       "      <td>Academic</td>\n",
       "      <td>B</td>\n",
       "      <td>Female</td>\n",
       "      <td>Less Interested</td>\n",
       "      <td>Rural</td>\n",
       "      <td>51</td>\n",
       "      <td>7480000</td>\n",
       "      <td>84.3</td>\n",
       "      <td>89.72</td>\n",
       "      <td>True</td>\n",
       "    </tr>\n",
       "    <tr>\n",
       "      <th>997</th>\n",
       "      <td>Vocational</td>\n",
       "      <td>A</td>\n",
       "      <td>Male</td>\n",
       "      <td>Less Interested</td>\n",
       "      <td>Urban</td>\n",
       "      <td>49</td>\n",
       "      <td>5550000</td>\n",
       "      <td>75.2</td>\n",
       "      <td>79.56</td>\n",
       "      <td>False</td>\n",
       "    </tr>\n",
       "    <tr>\n",
       "      <th>998</th>\n",
       "      <td>Academic</td>\n",
       "      <td>B</td>\n",
       "      <td>Male</td>\n",
       "      <td>Uncertain</td>\n",
       "      <td>Rural</td>\n",
       "      <td>53</td>\n",
       "      <td>5840000</td>\n",
       "      <td>105.8</td>\n",
       "      <td>87.18</td>\n",
       "      <td>True</td>\n",
       "    </tr>\n",
       "    <tr>\n",
       "      <th>999</th>\n",
       "      <td>Academic</td>\n",
       "      <td>B</td>\n",
       "      <td>Male</td>\n",
       "      <td>Quiet Interested</td>\n",
       "      <td>Urban</td>\n",
       "      <td>50</td>\n",
       "      <td>2940000</td>\n",
       "      <td>69.1</td>\n",
       "      <td>86.13</td>\n",
       "      <td>True</td>\n",
       "    </tr>\n",
       "  </tbody>\n",
       "</table>\n",
       "<p>1000 rows × 10 columns</p>\n",
       "</div>"
      ],
      "text/plain": [
       "    type_school school_accreditation  gender          interest residence  \\\n",
       "0      Academic                    A    Male   Less Interested     Urban   \n",
       "1      Academic                    A    Male   Less Interested     Urban   \n",
       "2      Academic                    B  Female   Very Interested     Urban   \n",
       "3    Vocational                    B    Male   Very Interested     Rural   \n",
       "4      Academic                    A  Female   Very Interested     Urban   \n",
       "..          ...                  ...     ...               ...       ...   \n",
       "995  Vocational                    A  Female   Very Interested     Rural   \n",
       "996    Academic                    B  Female   Less Interested     Rural   \n",
       "997  Vocational                    A    Male   Less Interested     Urban   \n",
       "998    Academic                    B    Male         Uncertain     Rural   \n",
       "999    Academic                    B    Male  Quiet Interested     Urban   \n",
       "\n",
       "     parent_age  parent_salary  house_area  average_grades  \\\n",
       "0            56        6950000        83.0           84.09   \n",
       "1            57        4410000        76.8           86.91   \n",
       "2            50        6500000        80.6           87.43   \n",
       "3            49        6600000        78.2           82.12   \n",
       "4            57        5250000        75.1           86.79   \n",
       "..          ...            ...         ...             ...   \n",
       "995          49        7420000        63.6           85.99   \n",
       "996          51        7480000        84.3           89.72   \n",
       "997          49        5550000        75.2           79.56   \n",
       "998          53        5840000       105.8           87.18   \n",
       "999          50        2940000        69.1           86.13   \n",
       "\n",
       "     parent_was_in_college  \n",
       "0                    False  \n",
       "1                    False  \n",
       "2                    False  \n",
       "3                     True  \n",
       "4                    False  \n",
       "..                     ...  \n",
       "995                   True  \n",
       "996                   True  \n",
       "997                  False  \n",
       "998                   True  \n",
       "999                   True  \n",
       "\n",
       "[1000 rows x 10 columns]"
      ]
     },
     "execution_count": 105,
     "metadata": {},
     "output_type": "execute_result"
    }
   ],
   "source": [
    "data"
   ]
  },
  {
   "cell_type": "code",
   "execution_count": null,
   "id": "5fe5973d",
   "metadata": {},
   "outputs": [],
   "source": []
  },
  {
   "cell_type": "code",
   "execution_count": 106,
   "id": "c3b7913a",
   "metadata": {},
   "outputs": [],
   "source": [
    "numeric_features = data.select_dtypes(include=['int64', 'float64']).columns\n",
    "categorical_features = data.select_dtypes(include=['object', 'bool']).columns"
   ]
  },
  {
   "cell_type": "code",
   "execution_count": null,
   "id": "b6987dad",
   "metadata": {},
   "outputs": [],
   "source": []
  },
  {
   "cell_type": "code",
   "execution_count": 107,
   "id": "205aadc5",
   "metadata": {},
   "outputs": [],
   "source": [
    "X_train, X_test, y_train, y_test = model_selection.train_test_split(x, y, random_state=0)"
   ]
  },
  {
   "cell_type": "code",
   "execution_count": null,
   "id": "e808e3bf",
   "metadata": {},
   "outputs": [],
   "source": []
  },
  {
   "cell_type": "code",
   "execution_count": 108,
   "id": "0f5b670c",
   "metadata": {},
   "outputs": [],
   "source": [
    "numeric_transformer = Pipeline(steps=[\n",
    "    ('imputer', SimpleImputer(strategy='median')),\n",
    "    ('scaler', StandardScaler())])\n",
    "\n",
    "categorical_transformer = Pipeline(steps=[\n",
    "    ('imputer', SimpleImputer(strategy='constant', fill_value='missing')),\n",
    "    ('onehot', OneHotEncoder(handle_unknown='ignore'))])"
   ]
  },
  {
   "cell_type": "code",
   "execution_count": 109,
   "id": "16418a6c",
   "metadata": {},
   "outputs": [],
   "source": [
    "preprocessor = ColumnTransformer(\n",
    "    transformers=[\n",
    "        ('num', numeric_transformer, numeric_features),\n",
    "        ('cat', categorical_transformer, categorical_features)])"
   ]
  },
  {
   "cell_type": "code",
   "execution_count": 155,
   "id": "84ccb876",
   "metadata": {},
   "outputs": [],
   "source": [
    "lr = Pipeline(steps=[('preprocessor', preprocessor),\n",
    "                      ('regressor', LinearRegression())])"
   ]
  },
  {
   "cell_type": "code",
   "execution_count": 156,
   "id": "1b173027",
   "metadata": {},
   "outputs": [
    {
     "name": "stdout",
     "output_type": "stream",
     "text": [
      "model score: 0.506\n"
     ]
    }
   ],
   "source": [
    "lr.fit(X_train, y_train) # результат линейной регрессии \n",
    "print(\"model score: %.3f\" % lr.score(X_test, y_test))"
   ]
  },
  {
   "cell_type": "code",
   "execution_count": 130,
   "id": "5196de5e",
   "metadata": {},
   "outputs": [],
   "source": [
    "from sklearn.linear_model import LogisticRegression"
   ]
  },
  {
   "cell_type": "code",
   "execution_count": 157,
   "id": "9f158c31",
   "metadata": {},
   "outputs": [],
   "source": [
    "lr = Pipeline(steps=[('preprocessor', preprocessor),\n",
    "                      ('regressor', LogisticRegression())])"
   ]
  },
  {
   "cell_type": "code",
   "execution_count": 158,
   "id": "c7b489ae",
   "metadata": {},
   "outputs": [
    {
     "name": "stdout",
     "output_type": "stream",
     "text": [
      "model score: 0.836\n"
     ]
    }
   ],
   "source": [
    "lr.fit(X_train, y_train) # \n",
    "print(\"model score: %.3f\" % lr.score(X_test, y_test))"
   ]
  },
  {
   "cell_type": "code",
   "execution_count": 141,
   "id": "aa9b0fd3",
   "metadata": {},
   "outputs": [],
   "source": [
    "from sklearn.linear_model import SGDClassifier"
   ]
  },
  {
   "cell_type": "code",
   "execution_count": 142,
   "id": "57910254",
   "metadata": {},
   "outputs": [],
   "source": [
    "lr = Pipeline(steps=[('preprocessor', preprocessor),\n",
    "                      ('regressor', SGDClassifier())])"
   ]
  },
  {
   "cell_type": "code",
   "execution_count": 143,
   "id": "6927e30e",
   "metadata": {},
   "outputs": [
    {
     "name": "stdout",
     "output_type": "stream",
     "text": [
      "model score: 0.756\n"
     ]
    }
   ],
   "source": [
    "lr.fit(X_train, y_train) # Линейная классификация  \n",
    "print(\"model score: %.3f\" % lr.score(X_test, y_test))"
   ]
  },
  {
   "cell_type": "code",
   "execution_count": 144,
   "id": "32e9f428",
   "metadata": {},
   "outputs": [],
   "source": [
    "from sklearn.tree import DecisionTreeClassifier"
   ]
  },
  {
   "cell_type": "code",
   "execution_count": 145,
   "id": "414fffde",
   "metadata": {},
   "outputs": [],
   "source": [
    "lr = Pipeline(steps=[('preprocessor', preprocessor),\n",
    "                      ('regressor', DecisionTreeClassifier())])"
   ]
  },
  {
   "cell_type": "code",
   "execution_count": 146,
   "id": "c60a10fc",
   "metadata": {},
   "outputs": [
    {
     "name": "stdout",
     "output_type": "stream",
     "text": [
      "model score: 0.832\n"
     ]
    }
   ],
   "source": [
    "lr.fit(X_train, y_train) # дерево  \n",
    "print(\"model score: %.3f\" % lr.score(X_test, y_test))"
   ]
  },
  {
   "cell_type": "code",
   "execution_count": 148,
   "id": "2032e747",
   "metadata": {},
   "outputs": [],
   "source": [
    "from sklearn.svm import SVC"
   ]
  },
  {
   "cell_type": "code",
   "execution_count": 149,
   "id": "1cac4a94",
   "metadata": {},
   "outputs": [],
   "source": [
    "lr = Pipeline(steps=[('preprocessor', preprocessor),\n",
    "                      ('regressor', SVC())])"
   ]
  },
  {
   "cell_type": "code",
   "execution_count": 150,
   "id": "e45e8882",
   "metadata": {},
   "outputs": [
    {
     "name": "stdout",
     "output_type": "stream",
     "text": [
      "model score: 0.884\n"
     ]
    }
   ],
   "source": [
    "lr.fit(X_train, y_train) # Опорные вектора   \n",
    "print(\"model score: %.3f\" % lr.score(X_test, y_test))"
   ]
  },
  {
   "cell_type": "code",
   "execution_count": null,
   "id": "3e143299",
   "metadata": {},
   "outputs": [],
   "source": []
  },
  {
   "cell_type": "code",
   "execution_count": null,
   "id": "be4278d4",
   "metadata": {},
   "outputs": [],
   "source": []
  },
  {
   "cell_type": "code",
   "execution_count": null,
   "id": "9fac38aa",
   "metadata": {},
   "outputs": [],
   "source": []
  },
  {
   "cell_type": "code",
   "execution_count": null,
   "id": "c9ee280b",
   "metadata": {},
   "outputs": [],
   "source": []
  },
  {
   "cell_type": "code",
   "execution_count": null,
   "id": "7f732549",
   "metadata": {},
   "outputs": [],
   "source": []
  },
  {
   "cell_type": "code",
   "execution_count": null,
   "id": "3940e609",
   "metadata": {},
   "outputs": [],
   "source": []
  },
  {
   "cell_type": "code",
   "execution_count": null,
   "id": "20843ba6",
   "metadata": {},
   "outputs": [],
   "source": []
  },
  {
   "cell_type": "code",
   "execution_count": null,
   "id": "d5670f71",
   "metadata": {},
   "outputs": [],
   "source": []
  },
  {
   "cell_type": "code",
   "execution_count": null,
   "id": "7c3d1e61",
   "metadata": {},
   "outputs": [],
   "source": []
  },
  {
   "cell_type": "code",
   "execution_count": null,
   "id": "259a26c2",
   "metadata": {},
   "outputs": [],
   "source": []
  },
  {
   "cell_type": "code",
   "execution_count": null,
   "id": "d4a1d93b",
   "metadata": {},
   "outputs": [],
   "source": []
  },
  {
   "cell_type": "code",
   "execution_count": null,
   "id": "9356413d",
   "metadata": {},
   "outputs": [],
   "source": []
  },
  {
   "cell_type": "code",
   "execution_count": null,
   "id": "00140117",
   "metadata": {},
   "outputs": [],
   "source": []
  },
  {
   "cell_type": "code",
   "execution_count": null,
   "id": "e318e807",
   "metadata": {},
   "outputs": [],
   "source": []
  },
  {
   "cell_type": "code",
   "execution_count": null,
   "id": "ed3ffd50",
   "metadata": {},
   "outputs": [],
   "source": []
  },
  {
   "cell_type": "code",
   "execution_count": null,
   "id": "5d1bb64f",
   "metadata": {},
   "outputs": [],
   "source": []
  },
  {
   "cell_type": "code",
   "execution_count": null,
   "id": "71def710",
   "metadata": {},
   "outputs": [],
   "source": []
  },
  {
   "cell_type": "code",
   "execution_count": null,
   "id": "0a7a4ce4",
   "metadata": {},
   "outputs": [],
   "source": []
  },
  {
   "cell_type": "code",
   "execution_count": null,
   "id": "006d6819",
   "metadata": {},
   "outputs": [],
   "source": []
  },
  {
   "cell_type": "code",
   "execution_count": null,
   "id": "980a977b",
   "metadata": {},
   "outputs": [],
   "source": []
  },
  {
   "cell_type": "code",
   "execution_count": null,
   "id": "ba3a3b2b",
   "metadata": {},
   "outputs": [],
   "source": []
  },
  {
   "cell_type": "code",
   "execution_count": null,
   "id": "a14d097e",
   "metadata": {},
   "outputs": [],
   "source": []
  }
 ],
 "metadata": {
  "kernelspec": {
   "display_name": "Python 3 (ipykernel)",
   "language": "python",
   "name": "python3"
  },
  "language_info": {
   "codemirror_mode": {
    "name": "ipython",
    "version": 3
   },
   "file_extension": ".py",
   "mimetype": "text/x-python",
   "name": "python",
   "nbconvert_exporter": "python",
   "pygments_lexer": "ipython3",
   "version": "3.9.13"
  }
 },
 "nbformat": 4,
 "nbformat_minor": 5
}
